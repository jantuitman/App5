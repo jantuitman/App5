{
  "nbformat": 4,
  "nbformat_minor": 0,
  "metadata": {
    "colab": {
      "provenance": [],
      "mount_file_id": "1Rd9gojVPNZ_6YluD5Fj7b0xj9bS3AXSj",
      "authorship_tag": "ABX9TyM2w8a+fFSDq8Bbr+MN3Squ",
      "include_colab_link": true
    },
    "kernelspec": {
      "name": "python3",
      "display_name": "Python 3"
    },
    "language_info": {
      "name": "python"
    }
  },
  "cells": [
    {
      "cell_type": "markdown",
      "metadata": {
        "id": "view-in-github",
        "colab_type": "text"
      },
      "source": [
        "<a href=\"https://colab.research.google.com/github/jantuitman/App5/blob/master/DwProfessionsEducations/Professions_Educations_Matching.ipynb\" target=\"_parent\"><img src=\"https://colab.research.google.com/assets/colab-badge.svg\" alt=\"Open In Colab\"/></a>"
      ]
    },
    {
      "cell_type": "code",
      "source": [
        "!pip install faiss-cpu\n",
        "!pip install OpenAI\n",
        "!pip install pandas"
      ],
      "metadata": {
        "colab": {
          "base_uri": "https://localhost:8080/"
        },
        "id": "1_lH9JcWhf5i",
        "outputId": "3b8a56e3-09a8-4a54-9bb7-52c0223c4c77"
      },
      "execution_count": 5,
      "outputs": [
        {
          "output_type": "stream",
          "name": "stdout",
          "text": [
            "Collecting faiss-cpu\n",
            "  Downloading faiss_cpu-1.7.4-cp310-cp310-manylinux_2_17_x86_64.manylinux2014_x86_64.whl (17.6 MB)\n",
            "\u001b[2K     \u001b[90m━━━━━━━━━━━━━━━━━━━━━━━━━━━━━━━━━━━━━━━━\u001b[0m \u001b[32m17.6/17.6 MB\u001b[0m \u001b[31m66.3 MB/s\u001b[0m eta \u001b[36m0:00:00\u001b[0m\n",
            "\u001b[?25hInstalling collected packages: faiss-cpu\n",
            "Successfully installed faiss-cpu-1.7.4\n",
            "Requirement already satisfied: OpenAI in /usr/local/lib/python3.10/dist-packages (0.28.0)\n",
            "Requirement already satisfied: requests>=2.20 in /usr/local/lib/python3.10/dist-packages (from OpenAI) (2.31.0)\n",
            "Requirement already satisfied: tqdm in /usr/local/lib/python3.10/dist-packages (from OpenAI) (4.66.1)\n",
            "Requirement already satisfied: aiohttp in /usr/local/lib/python3.10/dist-packages (from OpenAI) (3.8.5)\n",
            "Requirement already satisfied: charset-normalizer<4,>=2 in /usr/local/lib/python3.10/dist-packages (from requests>=2.20->OpenAI) (3.2.0)\n",
            "Requirement already satisfied: idna<4,>=2.5 in /usr/local/lib/python3.10/dist-packages (from requests>=2.20->OpenAI) (3.4)\n",
            "Requirement already satisfied: urllib3<3,>=1.21.1 in /usr/local/lib/python3.10/dist-packages (from requests>=2.20->OpenAI) (2.0.4)\n",
            "Requirement already satisfied: certifi>=2017.4.17 in /usr/local/lib/python3.10/dist-packages (from requests>=2.20->OpenAI) (2023.7.22)\n",
            "Requirement already satisfied: attrs>=17.3.0 in /usr/local/lib/python3.10/dist-packages (from aiohttp->OpenAI) (23.1.0)\n",
            "Requirement already satisfied: multidict<7.0,>=4.5 in /usr/local/lib/python3.10/dist-packages (from aiohttp->OpenAI) (6.0.4)\n",
            "Requirement already satisfied: async-timeout<5.0,>=4.0.0a3 in /usr/local/lib/python3.10/dist-packages (from aiohttp->OpenAI) (4.0.3)\n",
            "Requirement already satisfied: yarl<2.0,>=1.0 in /usr/local/lib/python3.10/dist-packages (from aiohttp->OpenAI) (1.9.2)\n",
            "Requirement already satisfied: frozenlist>=1.1.1 in /usr/local/lib/python3.10/dist-packages (from aiohttp->OpenAI) (1.4.0)\n",
            "Requirement already satisfied: aiosignal>=1.1.2 in /usr/local/lib/python3.10/dist-packages (from aiohttp->OpenAI) (1.3.1)\n"
          ]
        }
      ]
    },
    {
      "cell_type": "code",
      "source": [
        "import yaml\n",
        "\n",
        "def read_secrets():\n",
        "    with open(\"drive/MyDrive/InputData/secrets.yml\", 'r') as file:\n",
        "        data = yaml.safe_load(file)\n",
        "        return data\n",
        "\n",
        "secrets = read_secrets()\n",
        "api_key = secrets['open-api']['key']\n",
        ""
      ],
      "metadata": {
        "id": "8yoIibCVi6I2"
      },
      "execution_count": 8,
      "outputs": []
    },
    {
      "cell_type": "code",
      "source": [
        "\n",
        "import openai\n",
        "def get_openai_embedding(text, model=\"text-embedding-ada-002\"):\n",
        "   text = text.replace(\"\\n\", \" \")\n",
        "   return openai.Embedding.create(input = [text], model=model,api_key=api_key)['data'][0]['embedding']"
      ],
      "metadata": {
        "id": "bDQsHE0ujR5e"
      },
      "execution_count": 10,
      "outputs": []
    },
    {
      "cell_type": "code",
      "execution_count": 55,
      "metadata": {
        "id": "2wgDWaptMUzo"
      },
      "outputs": [],
      "source": [
        "import faiss\n",
        "import numpy as np\n",
        "import copy\n",
        "import os\n",
        "import pickle\n",
        "\n",
        "class EducationIndex:\n",
        "    def __init__(self, dim=1536):\n",
        "        self.dim = dim\n",
        "        self.index = faiss.IndexFlatIP(self.dim)\n",
        "        self.education_data = {}  # To store the original data fields\n",
        "        self.counter = 0  # To keep track of the number of added educations\n",
        "\n",
        "    def get_embedding(self, text):\n",
        "        # TODO: Implement the actual embedding logic using OpenAI's API\n",
        "        # For the purpose of this example, we'll return a random vector\n",
        "        return get_openai_embedding(text)\n",
        "\n",
        "    def add_education(self, education_entry):\n",
        "        studiebeschrijving = education_entry.get('Studiebeschrijving')\n",
        "        naamopleiding = education_entry.get('NaamOpleiding')\n",
        "        soortopleiding = education_entry.get('SoortOpleiding')\n",
        "        soortho = education_entry.get('SoortHo')\n",
        "\n",
        "        if studiebeschrijving and not pd.isna(studiebeschrijving):\n",
        "            # Generate the title\n",
        "            title = f\"{naamopleiding} ({soortopleiding}, {soortho})\"\n",
        "\n",
        "            # Concatenate the title and description\n",
        "            full_text = title + \" - \" + str(studiebeschrijving)\n",
        "\n",
        "            # Get the embedding\n",
        "            embedding = self.get_embedding(full_text)\n",
        "\n",
        "            self.index.add(np.array([embedding]))\n",
        "            self.education_data[self.counter] = education_entry\n",
        "            self.counter += 1\n",
        "\n",
        "\n",
        "\n",
        "    def search(self, query_text, k=5):\n",
        "        query_embedding = self.get_embedding(query_text)\n",
        "        D, I = self.index.search(np.array([query_embedding]), k)\n",
        "        results = []\n",
        "        for idx, score in zip(I[0], D[0]):\n",
        "          if idx != -1:\n",
        "            result = copy.deepcopy(self.education_data[idx])\n",
        "            result['score'] = score\n",
        "            results.append(result)\n",
        "        return results\n",
        "\n",
        "    def search_by_vector(self, query_vector, k=5):\n",
        "        D, I = self.index.search(np.array([query_vector]), k)\n",
        "        results = []\n",
        "        for idx, score in zip(I[0], D[0]):\n",
        "            if idx != -1:\n",
        "                result = copy.deepcopy(self.education_data[idx])\n",
        "                result['score'] = score\n",
        "                results.append(result)\n",
        "        return results\n",
        "\n",
        "    def save(self, directory_path):\n",
        "        # Check if the directory exists; create it if it doesn't\n",
        "        if not os.path.exists(directory_path):\n",
        "            try:\n",
        "                os.makedirs(directory_path)\n",
        "            except Exception as e:\n",
        "                print(f\"Could not create directory: {e}\")\n",
        "                return\n",
        "\n",
        "        # Construct the file paths\n",
        "        faiss_file_path = os.path.join(directory_path, 'faiss_index.idx')\n",
        "        data_file_path = os.path.join(directory_path, 'education_data.pkl')\n",
        "\n",
        "        # Save the FAISS index\n",
        "        faiss.write_index(self.index, faiss_file_path)\n",
        "\n",
        "        # Save the education_data dictionary and counter\n",
        "        with open(data_file_path, 'wb') as f:\n",
        "            pickle.dump((self.education_data, self.counter), f)\n",
        "\n",
        "\n",
        "    def load(self, directory_path):\n",
        "        # Construct the file paths\n",
        "        faiss_file_path = os.path.join(directory_path, 'faiss_index.idx')\n",
        "        data_file_path = os.path.join(directory_path, 'education_data.pkl')\n",
        "\n",
        "        # Load the FAISS index\n",
        "        self.index = faiss.read_index(faiss_file_path)\n",
        "\n",
        "        # Load the education_data dictionary and counter\n",
        "        with open(data_file_path, 'rb') as f:\n",
        "            self.education_data, self.counter = pickle.load(f)\n",
        "\n",
        "\n",
        "# Example usage\n",
        "edu_index2 = EducationIndex()\n",
        "\n",
        "# Adding an example education (you would loop through your actual data)\n",
        "example_education = {\n",
        "    'OpleidingscodeSamen': 30105,\n",
        "    'NaamOpleiding': 'Security Management',\n",
        "    'SoortOpleiding': 'Bachelor',\n",
        "    'SoortHo': 'HBO',\n",
        "    'Studiebeschrijving': 'De opleiding security management leert belangrijke skills over criminologie en andere vaardigheden, benodigd voor het politie vak of voor beveiliging'\n",
        "}\n",
        "edu_index2.add_education(example_education)\n",
        "\n",
        "\n"
      ]
    },
    {
      "cell_type": "code",
      "source": [
        "edu_index.search('Een politieagent moet veel weten over criminologie')"
      ],
      "metadata": {
        "colab": {
          "base_uri": "https://localhost:8080/"
        },
        "id": "TQ5O7S8_kG-c",
        "outputId": "042d4f20-980e-460b-978f-e00937727605"
      },
      "execution_count": 26,
      "outputs": [
        {
          "output_type": "execute_result",
          "data": {
            "text/plain": [
              "[{'OpleidingscodeSamen': 30105,\n",
              "  'NaamOpleiding': 'Security Management',\n",
              "  'SoortOpleiding': 'Bachelor',\n",
              "  'SoortHo': 'HBO',\n",
              "  'Studiebeschrijving': 'De opleiding security management leert belangrijke skills over criminologie en andere vaardigheden, benodigd voor het politie vak of voor beveiliging',\n",
              "  'score': 0.84429955}]"
            ]
          },
          "metadata": {},
          "execution_count": 26
        }
      ]
    },
    {
      "cell_type": "code",
      "source": [
        "import pandas as pd\n",
        "\n",
        "# Initialize the FAISS index\n",
        "edu_index = EducationIndex()\n",
        "\n",
        "# Read the Excel file\n",
        "excel_path = '/content/drive/MyDrive/DwProfessionsDwEducations/studies.xlsx'\n",
        "df_studies = pd.read_excel(excel_path)\n",
        "\n",
        "# Loop over the DataFrame to add each education to the index\n",
        "for _, row in df_studies.iterrows():\n",
        "    edu_index.add_education(row.to_dict())"
      ],
      "metadata": {
        "id": "vzR5Imvmm9B7"
      },
      "execution_count": 27,
      "outputs": []
    },
    {
      "cell_type": "code",
      "source": [
        "edu_index3 = EducationIndex()\n",
        "edu_index3.counter = edu_index.counter\n",
        "edu_index3.education_data = edu_index.education_data\n",
        "edu_index3.index = edu_index.index"
      ],
      "metadata": {
        "id": "N7bf2TDNurcy"
      },
      "execution_count": 34,
      "outputs": []
    },
    {
      "cell_type": "code",
      "source": [
        "edu_index3.save('/content/drive/MyDrive/DwProfessionsDwEducations/education_index')"
      ],
      "metadata": {
        "id": "Vg1mstOrvQ_9"
      },
      "execution_count": 35,
      "outputs": []
    },
    {
      "cell_type": "code",
      "source": [
        "education_index = EducationIndex()\n",
        "education_index.load('/content/drive/MyDrive/DwProfessionsDwEducations/education_index')"
      ],
      "metadata": {
        "id": "se52dtY8vgFC"
      },
      "execution_count": 56,
      "outputs": []
    },
    {
      "cell_type": "code",
      "source": [
        "education_index.search_by_vector(dw_profession_index2.get_vector_by_id(1))"
      ],
      "metadata": {
        "colab": {
          "base_uri": "https://localhost:8080/"
        },
        "id": "lIciG99Vvqkv",
        "outputId": "ed4d6484-ae7a-4fbb-fd1d-2e83d3d4b858"
      },
      "execution_count": 62,
      "outputs": [
        {
          "output_type": "execute_result",
          "data": {
            "text/plain": [
              "[{'OpleidingscodeSamen': 70069,\n",
              "  'NaamOpleiding': 'Tactical Policing',\n",
              "  'SoortOpleiding': 'Master',\n",
              "  'SoortHo': 'HBO',\n",
              "  'Studiebeschrijving': 'De hbo masterstudie Tactical policing (Tactisch Leidinggeven) is een uitstekende voorbereiding op een loopbaan op tactisch leidinggevend niveau. Als teamchef vorm je de schakel tussen het strategische en het operationele niveau. Vanuit een middellange termijn perspectief probeer je, samen met het team waar je leiding aan geeft, antwoorden te vinden op complexe vraagstukken binnen je werkgebied of het organisatieonderdeel waar je verantwoordelijk voor bent. Buiten de organisatie ben je een boegbeeld, binnen een voorbeeld.',\n",
              "  'score': 0.8556053},\n",
              " {'OpleidingscodeSamen': 50422,\n",
              "  'NaamOpleiding': 'Militaire Bedrijfswetenschappen',\n",
              "  'SoortOpleiding': 'Bachelor',\n",
              "  'SoortHo': 'WO',\n",
              "  'Studiebeschrijving': 'De universitaire bachelorstudie Militaire Bedrijfswetenschappen is gericht op het analyseren en verbeteren van het functioneren van militaire organisaties. In de studie komt aan bod hoe officieren een organisatie opbouwen, positioneren en hoe processen verlopen. De theorie van de organisatiekunde wordt vervlochten met voorbeeldende praktijk. Tijdens de studie specialiseer je je in defensie economie, logistiek, personeels- en gezondheidsmanagement of human factors en veiligheid.',\n",
              "  'score': 0.85341465},\n",
              " {'OpleidingscodeSamen': 50423,\n",
              "  'NaamOpleiding': 'Militaire Systemen & Technologie',\n",
              "  'SoortOpleiding': 'Bachelor',\n",
              "  'SoortHo': 'WO',\n",
              "  'Studiebeschrijving': 'De universitaire bachelorstudie Militaire Systemen en Technologie is een technische studie, gericht op de systemen en technologie binnen defensie. Je krijgt algemene vakken als wiskunde, natuurkunde en IT en toepassingsgerichte vakken als wapensystemen, radar en sonar, militaire operaties, precisienavigatie en pantsering. Daarnaast is er aandacht voor onderhoudsconcepten, systeemontwerp en de prestaties van militair materieel. Je specialiseert zich in militaire schepen, vliegtuigen, of voertuigen dan wel navigatie, operationele analyse of sensor-, wapen-, en commandovoeringssystemen.',\n",
              "  'score': 0.8379323},\n",
              " {'OpleidingscodeSamen': 34384,\n",
              "  'NaamOpleiding': 'Maritiem Officier',\n",
              "  'SoortOpleiding': 'Bachelor',\n",
              "  'SoortHo': 'HBO',\n",
              "  'Studiebeschrijving': 'De hbo bachelorstudie Maritiem Officier is gericht op navigatie, scheepswerktuigkunde en maritieme communicatie. Binnen de studie worden de functies van stuurman en scheepswerktuigkundige aan boord van koopvaardijschepen, zeeslepers en passagiersschepen gecombineerd. In de scheepsbedrijfsvoering is namelijk behoefte aan vakmensen met verstand van maritiem-technische en organisatorische zaken. Tijdens de studie volg je nautische, technische en bedrijfskundige onderdelen, waarbij je leert hoe je de verantwoordelijkheid voor het gehele schip kunt dragen. Ook leer je taken op de brug (gezagvoering en communicatie met andere schepen en de wal) en aan dek (ladingbehandeling) uit te voeren. Ten slotte leer je de technische installaties in de machinekamer beheersen en zorg je voor het onderhoud.',\n",
              "  'score': 0.83644754},\n",
              " {'OpleidingscodeSamen': 50424,\n",
              "  'NaamOpleiding': 'Krijgswetenschappen',\n",
              "  'SoortOpleiding': 'Bachelor',\n",
              "  'SoortHo': 'WO',\n",
              "  'Studiebeschrijving': \"De universitaire bachelorstudie Krijgswetenschappen is gericht op de wetenschappelijke benadering van het fenomeen oorlog. Je leert over de inzet van de krijgsmacht in het verleden, heden en toekomst. Vakgebieden als internationaal recht, strategie en tactiek en internationale betrekkingen vormen een belangrijk onderdeel binnen de studie. Je leert hoe veranderende internationale machtsverhoudingen, nieuwe technologie en het informatietijdperk de toepassing van geweld beïnvloeden en hoe militairen kunnen leren van ervaringen uit het verleden. Daarnaast is er aandacht voor dilemma's binnen de krijgsmacht.\",\n",
              "  'score': 0.8352447}]"
            ]
          },
          "metadata": {},
          "execution_count": 62
        }
      ]
    },
    {
      "cell_type": "code",
      "source": [
        "education_index.search(\" Timmerman. Timmerlieden knippen, vormen en monteren houten elementen voor de bouw van gebouwen en andere bouwwerken en gebruiken in hun creaties ook materialen als plastic en metaal.\")"
      ],
      "metadata": {
        "colab": {
          "base_uri": "https://localhost:8080/"
        },
        "id": "3PY_FZGG9jEC",
        "outputId": "da10f4df-e702-44ea-a72a-ad9abb3267eb"
      },
      "execution_count": 61,
      "outputs": [
        {
          "output_type": "execute_result",
          "data": {
            "text/plain": [
              "[{'OpleidingscodeSamen': 34280,\n",
              "  'NaamOpleiding': 'Werktuigbouwkunde',\n",
              "  'SoortOpleiding': 'Bachelor',\n",
              "  'SoortHo': 'HBO',\n",
              "  'Studiebeschrijving': \"De hbo bachelorstudie Werktuigbouwkunde is gericht op het ontwerpen, vervaardigen en onderhouden van producten, apparaten, machines en installaties en op de beheersing van processen. Je leert werktuigen bouwen die het werk van mensen overnemen of vergemakkelijken, variërend van cd-spelers en auto's tot toestellen voor pretparken. Bij de beheersing van processen kun je denken aan de temperatuurregeling in woningen en kantoren en aan de productie van schoon drinkwater. Ook processen die zich afspelen in de motor van een auto of in de pomp van een baggerschip behoren tot dit gebied. Werktuigbouwkunde is dus een breed vakgebied. Je leert hoe je producten ontwerpt en welke productiemiddelen nodig zijn om die te fabriceren. Verder leer je processen regelen en omgaan met installaties en machines die daarvoor nodig zijn. Daarbij besteed je veel aandacht aan het gebruik van de computer. Je gebruikt computers niet alleen om berekeningen te maken, maar ook om producten te ontwerpen, de productie te automatiseren en het productieproces te controleren.\",\n",
              "  'score': 0.80647415},\n",
              " {'OpleidingscodeSamen': 60955,\n",
              "  'NaamOpleiding': 'Biobased Materials',\n",
              "  'SoortOpleiding': 'Master',\n",
              "  'SoortHo': 'WO',\n",
              "  'Studiebeschrijving': 'De universitaire masterstudie Biobased Materials Is een multidisciplinair programma op het gebied van biobased materialen. Dit programma bereidt je voor op een carrière in onderzoek, ontwikkeling, productie en toepassing van bio-based materialen om te helpen bij de overgang naar een meer duurzame en biobased economie. De masterstudie wordt gekenmerkt door de mogelijkheid om je eigen curriculum vorm te geven. Je kunt je specialiseren op de richting van je voornaamste interesses.',\n",
              "  'score': 0.80388397},\n",
              " {'OpleidingscodeSamen': 34220,\n",
              "  'NaamOpleiding': 'Tuin- en Landschapsinrichting',\n",
              "  'SoortOpleiding': 'Bachelor',\n",
              "  'SoortHo': 'HBO',\n",
              "  'Studiebeschrijving': 'De hbo bachelorstudie Tuin- en Landschapsinrichting is gericht op de vormgeving van de buitenruimte in stedelijk en landelijk gebied. Je leert hoe je de openbare ruimte, vooral het groen in de stad en de omgeving daarvan, ontwerpt, aanlegt en in stand houdt. Verder leer je hoe je inrichtingsplannen opstelt en uitvoert. Deze plannen moeten recht doen aan de eisen voor architectuur, stedenbouw, natuur en recreatie. Belangrijke objecten zijn het openbaar groen en de tuinen van particulieren en instellingen. In landelijke gebieden wordt vorm gegeven aan de landschappelijke, ecologische en recreatieve structuur en aan specifieke groenobjecten, zoals recreatieobjecten en natuur(ontwikkelings)gebieden.',\n",
              "  'score': 0.7992084},\n",
              " {'OpleidingscodeSamen': 34389,\n",
              "  'NaamOpleiding': 'Industrieel Product Ontwerpen',\n",
              "  'SoortOpleiding': 'Bachelor',\n",
              "  'SoortHo': 'HBO',\n",
              "  'Studiebeschrijving': 'De hbo bachelorstudie Industrieel Produkt Ontwerpen is gericht op het ontwerpen van professionele producten en consumentenproducten. Je besteedt aandacht aan construeren, produceren, materialen, ergonomie, vormgeving en marketing. Daarbij ligt de nadruk op de maakbaarheid, hanteerbaarheid, veiligheid, duurzaamheid en kostprijs van een product.',\n",
              "  'score': 0.7979918},\n",
              " {'OpleidingscodeSamen': 56955,\n",
              "  'NaamOpleiding': 'Industrieel Ontwerpen',\n",
              "  'SoortOpleiding': 'Bachelor',\n",
              "  'SoortHo': 'WO',\n",
              "  'Studiebeschrijving': 'De universitaire bachelorstudie Industrieel Ontwerpen is gericht op het ontwerpen van duurzame goederen en diensten. Je besteedt aandacht aan ontwerpen, techniek, vormgeving, ergonomie en bedrijfskunde. Daarbij doe je veel kennis op van het ontwerp en de ontwikkeling van producten, diensten en systemen.',\n",
              "  'score': 0.79636085}]"
            ]
          },
          "metadata": {},
          "execution_count": 61
        }
      ]
    },
    {
      "cell_type": "code",
      "source": [
        "import os\n",
        "import pickle\n",
        "import pandas as pd\n",
        "\n",
        "class DwProfessionIndex:\n",
        "    def __init__(self, dim=1536):\n",
        "        self.dim = dim\n",
        "        self.index = faiss.IndexFlatIP(self.dim)\n",
        "        self.profession_data = {}\n",
        "        self.counter = 0\n",
        "\n",
        "    def get_embedding(self, text):\n",
        "        return get_openai_embedding(text)\n",
        "\n",
        "    def add_profession(self, profession_entry):\n",
        "        title = profession_entry.get('title')\n",
        "        description = profession_entry.get('description')\n",
        "        nlqf_id = profession_entry.get('nlqf_education_level_id')\n",
        "        nlqf_text_map = nlqf_text_map = {\n",
        "        'instroom': 'instroom',\n",
        "        'NLQF1': 'basiseducatie/vmbo, bb/mbo1',\n",
        "        'NLQF2': 'vmbo kb, gl, tl/mbo2',\n",
        "        'NLQF3': 'mbo3',\n",
        "        'NLQF4': 'mbo4/havo',\n",
        "        'NLQF4+': 'vwo',\n",
        "        'NLQF5': 'hbo associate degree',\n",
        "        'NLQF6': 'hbo bachelor',\n",
        "        'NLQF7': 'wo master',\n",
        "        'NLQF8': 'wo doctoraat'\n",
        "        }\n",
        "\n",
        "        if title and description and not pd.isna(title) and not pd.isna(description):\n",
        "            nlqf_text = nlqf_text_map.get(nlqf_id, \"onbekend\")\n",
        "\n",
        "            # Concatenate the title, description, and NLQF text\n",
        "            full_text = f\"{title}.\\n {description}\\nHet minimale opleidingniveau voor {title} is: {nlqf_text}\"\n",
        "            print(\"adding full text\", full_text);\n",
        "            # Get the embedding\n",
        "            embedding = self.get_embedding(full_text)\n",
        "\n",
        "            self.index.add(np.array([embedding]))\n",
        "            self.profession_data[self.counter] = profession_entry\n",
        "            self.counter += 1\n",
        "\n",
        "    def get_vector_by_id(self, profession_id):\n",
        "        # Search for the index corresponding to the given profession_id\n",
        "        index = None\n",
        "        for idx, key in enumerate(self.profession_data.keys()):\n",
        "            if key == profession_id:\n",
        "                index = idx\n",
        "                break\n",
        "\n",
        "        # If found, reconstruct the vector\n",
        "        if index is not None:\n",
        "            vector = np.zeros(self.dim, dtype='float32')\n",
        "            self.index.reconstruct(index, vector)\n",
        "            return vector\n",
        "        else:\n",
        "            print(f\"Profession ID {profession_id} not found.\")\n",
        "            return None\n",
        "\n",
        "\n",
        "    def save(self, directory_path):\n",
        "        # Check if the directory exists; create it if it doesn't\n",
        "        if not os.path.exists(directory_path):\n",
        "            try:\n",
        "                os.makedirs(directory_path)\n",
        "            except Exception as e:\n",
        "                print(f\"Could not create directory: {e}\")\n",
        "                return\n",
        "\n",
        "        faiss_file_path = os.path.join(directory_path, 'faiss_profession_index.idx')\n",
        "        data_file_path = os.path.join(directory_path, 'profession_data.pkl')\n",
        "\n",
        "        faiss.write_index(self.index, faiss_file_path)\n",
        "\n",
        "        with open(data_file_path, 'wb') as f:\n",
        "            pickle.dump((self.profession_data, self.counter), f)\n",
        "\n",
        "    def load(self, directory_path):\n",
        "        faiss_file_path = os.path.join(directory_path, 'faiss_profession_index.idx')\n",
        "        data_file_path = os.path.join(directory_path, 'profession_data.pkl')\n",
        "\n",
        "        self.index = faiss.read_index(faiss_file_path)\n",
        "\n",
        "        with open(data_file_path, 'rb') as f:\n",
        "            self.profession_data, self.counter = pickle.load(f)\n",
        "\n",
        "    def search(self, query_text, k=5):\n",
        "        query_embedding = self.get_embedding(query_text)\n",
        "        D, I = self.index.search(np.array([query_embedding]), k)\n",
        "        results = []\n",
        "        for idx, score in zip(I[0], D[0]):\n",
        "            if idx != -1:\n",
        "                result = copy.deepcopy(self.profession_data[idx])\n",
        "                result['score'] = score\n",
        "                results.append(result)\n",
        "        return results\n"
      ],
      "metadata": {
        "id": "BQ4kUdpB06cK"
      },
      "execution_count": 87,
      "outputs": []
    },
    {
      "cell_type": "code",
      "source": [
        "# Initialize the DwProfessionIndex\n",
        "dw_profession_index = DwProfessionIndex()\n",
        "\n",
        "# Read the CSV file (specify the correct path to your uploaded CSV)\n",
        "csv_path = '/content/drive/MyDrive/DwProfessionsDwEducations/dw_professions_08-09-2023.csv'\n",
        "df_professions = pd.read_csv(csv_path)\n",
        "\n",
        "# Loop over the DataFrame to add each profession to the index\n",
        "for _, row in df_professions.iterrows():\n",
        "    dw_profession_index.add_profession(row.to_dict())\n"
      ],
      "metadata": {
        "id": "jnmhPg6E1p9q"
      },
      "execution_count": 46,
      "outputs": []
    },
    {
      "cell_type": "code",
      "source": [
        "dw_profession_index.save('/content/drive/MyDrive/DwProfessionsDwEducations/alle_dw_professions_index')"
      ],
      "metadata": {
        "id": "6UPn2NOa5VQf"
      },
      "execution_count": 47,
      "outputs": []
    },
    {
      "cell_type": "code",
      "source": [
        "dw_profession_index.search('een beroep waarbij je moet timmeren.')"
      ],
      "metadata": {
        "colab": {
          "base_uri": "https://localhost:8080/"
        },
        "id": "7M_mdTdO5g4n",
        "outputId": "0fd2aae2-01d9-4b6d-cd34-3a033aa2640e"
      },
      "execution_count": 48,
      "outputs": [
        {
          "output_type": "execute_result",
          "data": {
            "text/plain": [
              "[{'dw_profession_id': 1720,\n",
              "  'title': 'timmerman',\n",
              "  'description': 'Timmerlieden knippen, vormen en monteren houten elementen voor de bouw van gebouwen en andere bouwwerken en gebruiken in hun creaties ook materialen als plastic en metaal.',\n",
              "  'nlqf_education_level_id': 'NLQF2',\n",
              "  'score': 0.88116264},\n",
              " {'dw_profession_id': 1552,\n",
              "  'title': 'breeuwer',\n",
              "  'description': 'Houten ketels drijven eikenhout in de naden tussen planking in dek of romp van houten schepen om ze waterdicht te maken, ze maken voornamelijk gebruik van handgereedschap om scheepslijm te verwarmen en in de naden te duwen, ze kunnen ook henneptouwen en katoenen lijnen in de naden hamer en eroverheen hete pekels uitstrijken.',\n",
              "  'nlqf_education_level_id': 'NLQF1',\n",
              "  'score': 0.86945647},\n",
              " {'dw_profession_id': 659,\n",
              "  'title': 'opzichter timmerwerk',\n",
              "  'description': 'De timmermanagers houden toezicht op de timmerwerkzaamheden in de bouw, wijzen taken toe en nemen snelle beslissingen om problemen op te lossen.',\n",
              "  'nlqf_education_level_id': 'NLQF4',\n",
              "  'score': 0.86414564},\n",
              " {'dw_profession_id': 2119,\n",
              "  'title': 'meubelmaker',\n",
              "  'description': 'Kastenmakers bouwen kasten of andere meubels door stukken hout te snijden, vorm te geven en te monteren en maken daarbij gebruik van verschillende soorten elektrisch en handgereedschap, zoals draaibanken, schaafmachines en zagen.',\n",
              "  'nlqf_education_level_id': 'NLQF3',\n",
              "  'score': 0.85665685},\n",
              " {'dw_profession_id': 1268,\n",
              "  'title': 'lijstenmaker',\n",
              "  'description': \"Framemakers bouwen frames, meestal van hout, voor foto's en spiegels. ze bespreken de specificaties met klanten en bouwen of passen het frame aan. ze snijden, vormen en verbinden de houten elementen en behandelen ze om de gewenste kleur te verkrijgen en beschermen tegen corrosie en vuur. ze snijden en passen het glas in het frame. in sommige gevallen snijden en decoreren ze de frames. ze kunnen ook oudere of antieke frames repareren, restaureren of reproduceren.\",\n",
              "  'nlqf_education_level_id': 'NLQF2',\n",
              "  'score': 0.8538321}]"
            ]
          },
          "metadata": {},
          "execution_count": 48
        }
      ]
    },
    {
      "cell_type": "code",
      "source": [
        "dw_profession_index2= DwProfessionIndex()\n",
        "dw_profession_index2.load('/content/drive/MyDrive/DwProfessionsDwEducations/alle_dw_professions_index')"
      ],
      "metadata": {
        "id": "PoL84-T26DZl"
      },
      "execution_count": 90,
      "outputs": []
    },
    {
      "cell_type": "code",
      "source": [
        "dw_profession_index2.get_vector_by_id(2)"
      ],
      "metadata": {
        "colab": {
          "base_uri": "https://localhost:8080/"
        },
        "id": "I_6QvCiw6Rc1",
        "outputId": "eaa15de0-cdc2-4566-c637-7f1edadaa952"
      },
      "execution_count": 59,
      "outputs": [
        {
          "output_type": "execute_result",
          "data": {
            "text/plain": [
              "array([-0.01243078, -0.03078222, -0.00770865, ...,  0.01604605,\n",
              "        0.01624253,  0.01536491], dtype=float32)"
            ]
          },
          "metadata": {},
          "execution_count": 59
        }
      ]
    },
    {
      "cell_type": "code",
      "source": [
        "# Initialize an empty DataFrame to store the results\n",
        "result_df = pd.DataFrame(columns=['dw_profession_id', 'dw_profession_title', 'education_id', 'education_name', 'score'])\n",
        "\n",
        "# Temporary list to collect data\n",
        "temp_data = []\n",
        "\n",
        "# Loop over the dw_professions DataFrame\n",
        "for _, profession_row in df_professions.iterrows():\n",
        "    nlqf_level = profession_row['nlqf_education_level_id']\n",
        "\n",
        "    # Filter out professions with NLQF level below 4\n",
        "    if nlqf_level not in ['NLQF4', 'NLQF4+', 'NLQF5', 'NLQF6', 'NLQF7', 'NLQF8']:\n",
        "        continue\n",
        "\n",
        "    # Get the vector for the current dw_profession\n",
        "    profession_id = profession_row['dw_profession_id']\n",
        "    profession_vector = dw_profession_index2.get_vector_by_id(profession_id)\n",
        "\n",
        "    if profession_vector is None:\n",
        "        continue\n",
        "\n",
        "    # Find the 3 most similar educations using the EducationIndex\n",
        "    similar_educations = education_index.search_by_vector(profession_vector, k=3)\n",
        "\n",
        "\n",
        "\n",
        "    # Add the results to the result DataFrame\n",
        "    for match in similar_educations:\n",
        "        temp_data.append({\n",
        "            'dw_profession_id': profession_id,\n",
        "            'dw_profession_title': profession_row['title'],\n",
        "            'education_id': f\"sk:{match['OpleidingscodeSamen']}\",\n",
        "            'education_name': f\"{match['NaamOpleiding']} ({match['SoortOpleiding']}, {match['SoortHo']})\",\n",
        "            'score': match['score']\n",
        "        })\n",
        "\n",
        "result_df = pd.concat([result_df, pd.DataFrame(temp_data)], ignore_index=True)\n",
        "# Save the result DataFrame to an Excel file\n",
        "result_df.to_excel('/content/drive/MyDrive/DwProfessionsDwEducations/dw_profession_to_education_matches.xlsx', index=False)\n"
      ],
      "metadata": {
        "colab": {
          "base_uri": "https://localhost:8080/"
        },
        "id": "ZPXilsUK8fJR",
        "outputId": "9b122d3f-e295-4084-8124-6d5d1af83616"
      },
      "execution_count": 91,
      "outputs": [
        {
          "output_type": "stream",
          "name": "stdout",
          "text": [
            "Profession ID 2548 not found.\n",
            "Profession ID 2550 not found.\n",
            "Profession ID 2551 not found.\n",
            "Profession ID 2552 not found.\n",
            "Profession ID 2553 not found.\n",
            "Profession ID 2554 not found.\n",
            "Profession ID 2555 not found.\n",
            "Profession ID 2556 not found.\n",
            "Profession ID 2557 not found.\n",
            "Profession ID 2558 not found.\n",
            "Profession ID 2559 not found.\n",
            "Profession ID 2560 not found.\n",
            "Profession ID 2561 not found.\n",
            "Profession ID 2562 not found.\n",
            "Profession ID 2563 not found.\n",
            "Profession ID 2564 not found.\n",
            "Profession ID 2565 not found.\n",
            "Profession ID 2567 not found.\n",
            "Profession ID 2568 not found.\n",
            "Profession ID 2569 not found.\n",
            "Profession ID 2570 not found.\n",
            "Profession ID 2571 not found.\n",
            "Profession ID 2572 not found.\n",
            "Profession ID 2573 not found.\n",
            "Profession ID 2574 not found.\n",
            "Profession ID 2575 not found.\n",
            "Profession ID 2576 not found.\n",
            "Profession ID 2577 not found.\n",
            "Profession ID 2578 not found.\n",
            "Profession ID 2579 not found.\n",
            "Profession ID 2580 not found.\n",
            "Profession ID 2581 not found.\n",
            "Profession ID 2582 not found.\n",
            "Profession ID 2583 not found.\n",
            "Profession ID 2584 not found.\n",
            "Profession ID 2585 not found.\n",
            "Profession ID 2587 not found.\n",
            "Profession ID 2588 not found.\n",
            "Profession ID 2590 not found.\n",
            "Profession ID 2591 not found.\n",
            "Profession ID 2592 not found.\n",
            "Profession ID 2593 not found.\n",
            "Profession ID 2594 not found.\n",
            "Profession ID 2595 not found.\n",
            "Profession ID 2596 not found.\n",
            "Profession ID 2597 not found.\n",
            "Profession ID 2598 not found.\n",
            "Profession ID 2599 not found.\n",
            "Profession ID 2600 not found.\n",
            "Profession ID 2601 not found.\n",
            "Profession ID 2602 not found.\n",
            "Profession ID 2603 not found.\n",
            "Profession ID 2604 not found.\n",
            "Profession ID 2605 not found.\n",
            "Profession ID 2606 not found.\n",
            "Profession ID 2607 not found.\n",
            "Profession ID 2608 not found.\n",
            "Profession ID 2609 not found.\n",
            "Profession ID 2610 not found.\n",
            "Profession ID 2611 not found.\n",
            "Profession ID 2612 not found.\n",
            "Profession ID 2613 not found.\n",
            "Profession ID 2614 not found.\n",
            "Profession ID 2615 not found.\n",
            "Profession ID 2616 not found.\n",
            "Profession ID 2617 not found.\n",
            "Profession ID 2618 not found.\n",
            "Profession ID 2619 not found.\n",
            "Profession ID 2620 not found.\n",
            "Profession ID 2621 not found.\n",
            "Profession ID 2622 not found.\n",
            "Profession ID 2623 not found.\n",
            "Profession ID 2624 not found.\n",
            "Profession ID 2625 not found.\n",
            "Profession ID 2626 not found.\n",
            "Profession ID 2627 not found.\n",
            "Profession ID 2628 not found.\n",
            "Profession ID 2629 not found.\n",
            "Profession ID 2630 not found.\n",
            "Profession ID 2631 not found.\n",
            "Profession ID 2632 not found.\n",
            "Profession ID 2633 not found.\n",
            "Profession ID 2634 not found.\n",
            "Profession ID 2635 not found.\n",
            "Profession ID 2636 not found.\n",
            "Profession ID 2637 not found.\n",
            "Profession ID 2638 not found.\n",
            "Profession ID 2639 not found.\n",
            "Profession ID 2640 not found.\n",
            "Profession ID 2641 not found.\n",
            "Profession ID 2642 not found.\n",
            "Profession ID 2643 not found.\n",
            "Profession ID 2644 not found.\n",
            "Profession ID 2645 not found.\n",
            "Profession ID 2646 not found.\n",
            "Profession ID 2647 not found.\n",
            "Profession ID 2648 not found.\n",
            "Profession ID 2649 not found.\n",
            "Profession ID 2650 not found.\n",
            "Profession ID 2651 not found.\n",
            "Profession ID 2652 not found.\n",
            "Profession ID 2653 not found.\n",
            "Profession ID 2654 not found.\n",
            "Profession ID 2655 not found.\n",
            "Profession ID 2656 not found.\n",
            "Profession ID 2657 not found.\n",
            "Profession ID 2658 not found.\n",
            "Profession ID 2659 not found.\n",
            "Profession ID 2661 not found.\n",
            "Profession ID 2662 not found.\n",
            "Profession ID 2663 not found.\n",
            "Profession ID 2664 not found.\n",
            "Profession ID 2665 not found.\n",
            "Profession ID 2667 not found.\n",
            "Profession ID 2668 not found.\n",
            "Profession ID 2670 not found.\n",
            "Profession ID 2672 not found.\n",
            "Profession ID 2673 not found.\n",
            "Profession ID 2674 not found.\n",
            "Profession ID 2675 not found.\n",
            "Profession ID 2676 not found.\n",
            "Profession ID 2677 not found.\n",
            "Profession ID 2678 not found.\n",
            "Profession ID 2679 not found.\n",
            "Profession ID 2680 not found.\n",
            "Profession ID 2681 not found.\n",
            "Profession ID 2682 not found.\n",
            "Profession ID 2685 not found.\n",
            "Profession ID 2686 not found.\n",
            "Profession ID 2687 not found.\n",
            "Profession ID 2688 not found.\n",
            "Profession ID 2689 not found.\n",
            "Profession ID 2690 not found.\n",
            "Profession ID 2691 not found.\n",
            "Profession ID 2692 not found.\n",
            "Profession ID 2693 not found.\n",
            "Profession ID 2694 not found.\n",
            "Profession ID 2695 not found.\n",
            "Profession ID 2696 not found.\n",
            "Profession ID 2697 not found.\n",
            "Profession ID 2698 not found.\n",
            "Profession ID 2699 not found.\n",
            "Profession ID 2700 not found.\n",
            "Profession ID 2701 not found.\n",
            "Profession ID 2702 not found.\n",
            "Profession ID 2703 not found.\n",
            "Profession ID 2704 not found.\n",
            "Profession ID 2709 not found.\n",
            "Profession ID 2710 not found.\n",
            "Profession ID 2711 not found.\n",
            "Profession ID 2712 not found.\n",
            "Profession ID 2713 not found.\n",
            "Profession ID 2714 not found.\n",
            "Profession ID 2715 not found.\n",
            "Profession ID 2716 not found.\n",
            "Profession ID 2717 not found.\n",
            "Profession ID 2718 not found.\n",
            "Profession ID 2719 not found.\n"
          ]
        }
      ]
    },
    {
      "cell_type": "code",
      "source": [
        "# onderstaande dw professions hadden geen tekst.\n",
        "\n",
        "# Read the CSV file (specify the correct path to your uploaded CSV)\n",
        "csv_path = '/content/drive/MyDrive/DwProfessionsDwEducations/dw_professions_08-09-2023.csv'\n",
        "df_professions = pd.read_csv(csv_path)\n",
        "\n",
        "# Loop over the DataFrame to add each profession to the index\n",
        "for _, row in df_professions.iterrows():\n",
        "    dw_profession_id = row['dw_profession_id']  # Replace with the actual column name for the ID, if different\n",
        "\n",
        "    # Skip professions with ID less than 2548\n",
        "    if dw_profession_id < 2548:\n",
        "        continue\n",
        "    print(row['title'])\n",
        ""
      ],
      "metadata": {
        "colab": {
          "base_uri": "https://localhost:8080/"
        },
        "id": "QhHUeOzeC1o2",
        "outputId": "818be037-cffa-4a4b-fbf3-32cfdf4fa427"
      },
      "execution_count": 92,
      "outputs": [
        {
          "output_type": "stream",
          "name": "stdout",
          "text": [
            "technicus waterleidingbedrijf\n",
            "zweminstructeur\n",
            "Anesthesioloog\n",
            "Arbeidstherapeut\n",
            "Arboverpleegkundige\n",
            "Arts beleid en advies\n",
            "Arts infectieziektebestrijding\n",
            "Arts jeugdgezondheidszorg\n",
            "Arts maatschappij en gezondheid\n",
            "Arts medische milieukunde\n",
            "Arts microbioloog\n",
            "Arts sociaal medische indicatiestelling en advisering\n",
            "Arts sociaal-medische dienst\n",
            "Arts spoedeisende hulp (SEH)\n",
            "Arts tuberculosebestrijding\n",
            "Arts voor verstandelijk gehandicapten (AVG)\n",
            "Basisarts\n",
            "Bedrijfsarts\n",
            "begeleider\n",
            "Brandwondenverpleegkundige\n",
            "Cardioloog\n",
            "Cardioloog thoracaal chirurg\n",
            "casemanager dementie\n",
            "Chirurg\n",
            "Consultatief psychiatrisch verpleegkundige\n",
            "CPA-verpleegkundige / centralist\n",
            "decubitus verpleegkundige\n",
            "Decubitus-consulent\n",
            "Dermatologie verpleegkundige\n",
            "Dermatoloog\n",
            "Diabetes verpleegkundige\n",
            "Dialyseverpleegkundige\n",
            "Districtsverpleegkundige\n",
            "Donorarts\n",
            "endoscopieverpleegkundige\n",
            "Forensisch arts\n",
            "Forensisch patholoog\n",
            "Geriatrisch verpleegkundige\n",
            "Gezinshuisouder\n",
            "GG- en GD-verpleegkundige\n",
            "Gynaecoloog\n",
            "Helpende instelling\n",
            "Hoofd kraamzorg\n",
            "Hoofd operatiekamer\n",
            "Hoofd sterilisatie gezondheidszorg\n",
            "Hoofd wijkzorg\n",
            "Hoofd zorg\n",
            "Hoofdverpleegkundige algemeen ziekenhuis\n",
            "Hoofdverpleegkundige psychiatrie\n",
            "Hoofdverpleegkundige verstandelijk gehandicaptenzorg\n",
            "Intensive care arts\n",
            "Intensive care kinderverpleegkundige\n",
            "Intensive care verpleegkundige\n",
            "Internist\n",
            "Jeugdgezondheidszorg verpleegkundige\n",
            "Keel-, neus- en oorarts (kno)\n",
            "Kinderarts\n",
            "Kinderoncologieverpleegkundige\n",
            "Kinderverpleegkundige\n",
            "Klinisch embryoloog\n",
            "Klinisch geneticus\n",
            "Klinisch geriater\n",
            "Klinisch patholoog\n",
            "Longarts\n",
            "Longverpleegkundige\n",
            "Maag, darm, lever arts (MDL)\n",
            "Manager gezondheidscentrum\n",
            "Manager huisartsenpost\n",
            "Manager instelling gezondheids- en (op)voedingsvoorlichting\n",
            "Manager medische zaken kruisvereniging\n",
            "Manager psychiatrische inrichting\n",
            "Manager zorg en bedrijfsvoering ziekenhuis\n",
            "Manueel therapeut\n",
            "Maritiem verpleegkundige\n",
            "Mediator\n",
            "Medisch manager ambulancezorg\n",
            "Medisch manager ziekenhuis\n",
            "medium care verpleegkundige\n",
            "Neurochirurg\n",
            "Neurologieverpleegkundige\n",
            "Neuroloog\n",
            "Nucleair geneeskundige\n",
            "Obstetrisch en gynaecologisch verpleegkundige\n",
            "Oefentherapeut Cesar\n",
            "Oefentherapeut Mensendieck\n",
            "Officier van dienst gezondheidszorg\n",
            "Oncoloog\n",
            "Oogarts\n",
            "Operatieassistent\n",
            "Operatieverpleegkundige\n",
            "Orthodontist\n",
            "Orthopedische chirurg\n",
            "Pedagogisch medewerker ziekenhuis\n",
            "Physician assistant\n",
            "Pijnverpleegkundige\n",
            "Plastisch chirurg\n",
            "Podotherapeut\n",
            "Praktijkondersteuner huisarts GGZ (poh-ggz)\n",
            "Praktijkondersteuner huisarts somatiek (poh-s)\n",
            "Psychiater\n",
            "Psychiatrisch intensieve thuiszorg (PIT) verpleegkundige\n",
            "Psychomotorisch therapeut\n",
            "Radioloog\n",
            "Radiotherapeut\n",
            "Recovery verpleegkundige\n",
            "Regieverpleegkundige\n",
            "Research verpleegkundige\n",
            "Reumatoloog\n",
            "Revalidatiearts\n",
            "Revalidatieverpleegkundige\n",
            "Scheepsarts\n",
            "Schoolverpleegkundige\n",
            "Seksuoloog\n",
            "Sociaal verpleegkundige\n",
            "Sociaal-psychiatrisch verpleegkundige\n",
            "Specialist ouderengeneeskunde\n",
            "Sportarts\n",
            "Sterilisatieassistent gezondheidszorg\n",
            "Teamleider ambulancezorg\n",
            "Teamleider geestelijke gezondheidszorg\n",
            "Teamleider kraam- / gezinszorg\n",
            "Teamleider laboratorium ziekenhuis\n",
            "Teamleider thuishulp / teamleider thuiszorg\n",
            "Teamleider verpleegkundige afdeling ziekenhuis\n",
            "Teamleider verpleging ouderenzorg\n",
            "Teamleider verzorging ouderenzorg\n",
            "Technisch oogheelkundig assistent\n",
            "Transferverpleegkundige\n",
            "Tropenarts\n",
            "Tropenverpleegkundige\n",
            "Uroloog\n",
            "Verpleegkundig directeur ziekenhuis\n",
            "Verpleegkundig specialist\n",
            "Verpleegkundig specialist GGZ\n",
            "Verpleegkundige aids-consulent\n",
            "Verpleegkundige cardiologie\n",
            "verpleegkundige chirurgie\n",
            "Verpleegkundige gastro-enterologie\n",
            "verpleegkundige interne geneeskunde\n",
            "Verpleegkundige kleinschalig wonen\n",
            "Verpleegkundige neonatologie\n",
            "Verpleegkundige oncologie\n",
            "Verpleegkundige oogheelkunde\n",
            "Verpleegkundige orthopedie\n",
            "Verpleegkundige psychiatrie\n",
            "verpleegkundige reumatologie\n",
            "Verpleegkundige spoedeisende hulp\n",
            "Verpleegkundige stoma\n",
            "Verpleegkundige urologie\n",
            "Verpleegkundige verpleeghuis\n",
            "Verpleegkundige verstandelijk gehandicapten\n",
            "Verpleegkundige ziekenhuis\n",
            "Verslavingsarts\n",
            "Verzekeringsarts\n",
            "Verzorgende IG thuiszorg\n",
            "Verzorgende individuele gezondheidszorg (ig)\n",
            "Verzorgende instelling\n",
            "Voedingsassistent\n",
            "Wetenschappelijk onderzoeker farmacie\n",
            "Wetenschappelijk onderzoeker geneeskunde\n",
            "Wetenschappelijk onderzoeker geneeskunde specialist\n",
            "Wetenschappelijk onderzoeker sociologie\n",
            "Wijkmanager\n",
            "Wijkverpleegkundige\n",
            "Ziekenhuisarts\n",
            "Zorgmanager geestelijke gezondheidszorg\n",
            "Zorgmanager instelling maatschappelijk werk\n",
            "Zorgmanager jeugdzorg\n",
            "Zorgmanager thuiszorg\n"
          ]
        }
      ]
    },
    {
      "cell_type": "code",
      "source": [
        "dw_profession_index2.counter\n"
      ],
      "metadata": {
        "colab": {
          "base_uri": "https://localhost:8080/"
        },
        "id": "NyN9p0QlFKuU",
        "outputId": "0f704667-dae3-4182-edb9-71536b0a88c1"
      },
      "execution_count": 86,
      "outputs": [
        {
          "output_type": "execute_result",
          "data": {
            "text/plain": [
              "2552"
            ]
          },
          "metadata": {},
          "execution_count": 86
        }
      ]
    }
  ]
}